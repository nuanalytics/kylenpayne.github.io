{
 "cells": [
  {
   "cell_type": "markdown",
   "metadata": {},
   "source": [
    "For a (binary) floating point system of the form \n",
    "$(1.s_1s_2s_3)_2 2p$ that has an exponent range from $−128$ to $127$ and that uses three bits to store the significand s, what is the difference between 1 and the smallest representable number greater than one?"
   ]
  },
  {
   "cell_type": "code",
   "execution_count": 44,
   "metadata": {
    "collapsed": false
   },
   "outputs": [],
   "source": [
    "import numpy as np\n",
    "A = {0: {2: 17, 3: 31}, 1: {3: 5}, 3: {1: 14}}\n",
    "x = np.array([1,2,4,5])\n",
    "shape=(4,4)\n",
    "\n",
    "import numpy as np\n",
    "def sparse_mv_mult(A, x, shape):\n",
    "    Ax = np.zeros((shape[1],1))\n",
    "    for k in list(A.keys()):\n",
    "        sparse_row = A[k]\n",
    "        sparse_sum = 0\n",
    "        for j in list(sparse_row.keys()):\n",
    "            sparse_sum += sparse_row[j]*x[j]\n",
    "            Ax[k] = sparse_sum\n",
    "    return Ax\n",
    "\n",
    "Ax = sparse_mv_mult(A,x,shape)"
   ]
  },
  {
   "cell_type": "code",
   "execution_count": 45,
   "metadata": {
    "collapsed": false
   },
   "outputs": [
    {
     "data": {
      "text/plain": [
       "array([[ 223.],\n",
       "       [  25.],\n",
       "       [   0.],\n",
       "       [  28.]])"
      ]
     },
     "execution_count": 45,
     "metadata": {},
     "output_type": "execute_result"
    }
   ],
   "source": [
    "Ax"
   ]
  },
  {
   "cell_type": "code",
   "execution_count": 39,
   "metadata": {
    "collapsed": false
   },
   "outputs": [],
   "source": [
    "def no_change(a):\n",
    "    k = 1\n",
    "    a = float(a)\n",
    "    while a != a + 10**-k:\n",
    "        k += 1\n",
    "    else:\n",
    "        return(k)\n",
    "\n",
    "k = no_change(a)"
   ]
  },
  {
   "cell_type": "code",
   "execution_count": 42,
   "metadata": {
    "collapsed": false
   },
   "outputs": [
    {
     "data": {
      "text/plain": [
       "5"
      ]
     },
     "execution_count": 42,
     "metadata": {},
     "output_type": "execute_result"
    }
   ],
   "source": [
    "f = (5,5)\n",
    "f[1]"
   ]
  },
  {
   "cell_type": "code",
   "execution_count": 7,
   "metadata": {
    "collapsed": false
   },
   "outputs": [
    {
     "data": {
      "text/plain": [
       "array([ 1.125,  1.25 ,  1.375,  1.5  ,  1.625,  1.75 ,  1.875,  2.   ,\n",
       "        2.25 ])"
      ]
     },
     "execution_count": 7,
     "metadata": {},
     "output_type": "execute_result"
    }
   ],
   "source": [
    "subset[1:10]"
   ]
  },
  {
   "cell_type": "markdown",
   "metadata": {},
   "source": [
    "## largest integer"
   ]
  },
  {
   "cell_type": "code",
   "execution_count": 9,
   "metadata": {
    "collapsed": false
   },
   "outputs": [
    {
     "ename": "IndexError",
     "evalue": "index 2048 is out of bounds for axis 0 with size 2048",
     "output_type": "error",
     "traceback": [
      "\u001b[0;31m---------------------------------------------------------------------------\u001b[0m",
      "\u001b[0;31mIndexError\u001b[0m                                Traceback (most recent call last)",
      "\u001b[0;32m<ipython-input-9-b9a177fd168c>\u001b[0m in \u001b[0;36m<module>\u001b[0;34m()\u001b[0m\n\u001b[0;32m----> 1\u001b[0;31m \u001b[0mfp_numbers\u001b[0m\u001b[0;34m[\u001b[0m\u001b[0;36m2048\u001b[0m\u001b[0;34m]\u001b[0m\u001b[0;34m\u001b[0m\u001b[0m\n\u001b[0m",
      "\u001b[0;31mIndexError\u001b[0m: index 2048 is out of bounds for axis 0 with size 2048"
     ]
    }
   ],
   "source": [
    "fp_numbers[f"
   ]
  },
  {
   "cell_type": "code",
   "execution_count": null,
   "metadata": {
    "collapsed": true
   },
   "outputs": [],
   "source": []
  }
 ],
 "metadata": {
  "kernelspec": {
   "display_name": "Python 3",
   "language": "python",
   "name": "python3"
  },
  "language_info": {
   "codemirror_mode": {
    "name": "ipython",
    "version": 3
   },
   "file_extension": ".py",
   "mimetype": "text/x-python",
   "name": "python",
   "nbconvert_exporter": "python",
   "pygments_lexer": "ipython3",
   "version": "3.4.3"
  }
 },
 "nbformat": 4,
 "nbformat_minor": 0
}
